{
 "cells": [
  {
   "cell_type": "code",
   "execution_count": 1,
   "id": "5b1805de-b958-49aa-8c7d-ffbf36b199f0",
   "metadata": {},
   "outputs": [
    {
     "name": "stdin",
     "output_type": "stream",
     "text": [
      "\n",
      "Enter purchased items (comma-separated) or 'exit' to quit:\n",
      " tropical fruit,whole milk\n"
     ]
    },
    {
     "name": "stdout",
     "output_type": "stream",
     "text": [
      "Given items: ['tropical fruit', 'whole milk']\n",
      "Recommended items: No recommendation based on current rules.\n"
     ]
    },
    {
     "name": "stdin",
     "output_type": "stream",
     "text": [
      "\n",
      "Enter purchased items (comma-separated) or 'exit' to quit:\n",
      " exit\n"
     ]
    }
   ],
   "source": [
    "import os\n",
    "import json\n",
    "import joblib\n",
    "from pathlib import Path\n",
    "from typing import List, Dict, Any\n",
    "\n",
    "# ---------- CONFIG ----------\n",
    "OUTPUT_DIR = Path(r\"C:\\Users\\NXTWAVE\\Downloads\\Groceries Price Detection\")\n",
    "ARTIFACTS_PKL = OUTPUT_DIR / \"artifacts.pkl\"\n",
    "RULES_JSON = OUTPUT_DIR / \"association_rules.json\"\n",
    "\n",
    "# ------------------ Helpers ------------------\n",
    "\n",
    "def load_artifacts(pkl_path: Path) -> Dict[str, Any]:\n",
    "    \"\"\"Load precomputed artifacts\"\"\"\n",
    "    if pkl_path.exists():\n",
    "        return joblib.load(str(pkl_path))\n",
    "    return {}\n",
    "\n",
    "def make_recommender_from_rules_list(rules_list: List[Dict[str, Any]]):\n",
    "    \"\"\"Build recommender function from rules\"\"\"\n",
    "    rules_internal = []\n",
    "    for r in rules_list:\n",
    "        rules_internal.append({\n",
    "            'antecedents': set(r.get('antecedents', [])),\n",
    "            'consequents': list(r.get('consequents', [])),\n",
    "            'lift': r.get('lift', 0.0)\n",
    "        })\n",
    "\n",
    "    def recommend(given_items: List[str], top_n: int = 5):\n",
    "        given_set = set(given_items)\n",
    "        scores = {}\n",
    "        for r in rules_internal:\n",
    "            if r['antecedents'].issubset(given_set):\n",
    "                for c in r['consequents']:\n",
    "                    scores[c] = max(scores.get(c, 0.0), r.get('lift', 0.0))\n",
    "        # Remove already given items\n",
    "        for g in given_items:\n",
    "            scores.pop(g, None)\n",
    "        sorted_items = sorted(scores.items(), key=lambda x: x[1], reverse=True)\n",
    "        return [item for item, sc in sorted_items[:top_n]]\n",
    "\n",
    "    return recommend\n",
    "\n",
    "\n",
    "# ------------------ Main ------------------\n",
    "\n",
    "def main():\n",
    "    # Load artifacts\n",
    "    artifacts = load_artifacts(ARTIFACTS_PKL)\n",
    "    rules_serial = artifacts.get('rules_serial', None)\n",
    "\n",
    "    # If no rules in artifacts, fallback to JSON\n",
    "    if rules_serial is None:\n",
    "        if RULES_JSON.exists():\n",
    "            with open(str(RULES_JSON), 'r') as f:\n",
    "                rules_serial = json.load(f)\n",
    "            print(\"Loaded rules from JSON\")\n",
    "        else:\n",
    "            print(\"No rules found. Exiting.\")\n",
    "            return\n",
    "\n",
    "    # Build recommender\n",
    "    recommender = make_recommender_from_rules_list(rules_serial)\n",
    "\n",
    "    # Example usage\n",
    "    while True:\n",
    "        user_input = input(\"\\nEnter purchased items (comma-separated) or 'exit' to quit:\\n\")\n",
    "        if user_input.lower() in ['exit', 'quit']:\n",
    "            break\n",
    "        items = [x.strip() for x in user_input.split(',') if x.strip()]\n",
    "        if not items:\n",
    "            print(\"No items entered. Try again.\")\n",
    "            continue\n",
    "        recommended = recommender(items, top_n=5)\n",
    "        print(f\"Given items: {items}\")\n",
    "        print(f\"Recommended items: {recommended if recommended else 'No recommendation based on current rules.'}\")\n",
    "\n",
    "\n",
    "if __name__ == \"__main__\":\n",
    "    main()\n"
   ]
  },
  {
   "cell_type": "code",
   "execution_count": null,
   "id": "1bf14212-d4e4-4303-baac-1b6ae9e55118",
   "metadata": {},
   "outputs": [],
   "source": []
  }
 ],
 "metadata": {
  "kernelspec": {
   "display_name": "Python 3 (ipykernel)",
   "language": "python",
   "name": "python3"
  },
  "language_info": {
   "codemirror_mode": {
    "name": "ipython",
    "version": 3
   },
   "file_extension": ".py",
   "mimetype": "text/x-python",
   "name": "python",
   "nbconvert_exporter": "python",
   "pygments_lexer": "ipython3",
   "version": "3.11.9"
  }
 },
 "nbformat": 4,
 "nbformat_minor": 5
}
